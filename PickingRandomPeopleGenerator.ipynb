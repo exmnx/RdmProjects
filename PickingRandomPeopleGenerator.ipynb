{
  "nbformat": 4,
  "nbformat_minor": 0,
  "metadata": {
    "colab": {
      "provenance": [],
      "authorship_tag": "ABX9TyNEhtrbRPetGvTWC9kHJAKY"
    },
    "kernelspec": {
      "name": "python3",
      "display_name": "Python 3"
    },
    "language_info": {
      "name": "python"
    }
  },
  "cells": [
    {
      "cell_type": "markdown",
      "source": [
        " **This is the sample program to randomly decide the order for students**"
      ],
      "metadata": {
        "id": "MVG-jB5yQqkX"
      }
    },
    {
      "cell_type": "code",
      "source": [
        "import numpy as np"
      ],
      "metadata": {
        "id": "shfMlqA5RB8k"
      },
      "execution_count": 1,
      "outputs": []
    },
    {
      "cell_type": "markdown",
      "source": [
        "**INPUT AREA: You may edit**"
      ],
      "metadata": {
        "id": "sOuF7FfEgcq8"
      }
    },
    {
      "cell_type": "code",
      "source": [
        "#To manually input list, Write below the names in the Student1,etc area.\n",
        "StudentNames=['Joey','Lychee','Sir Geoffery','Octavian','Augustus']"
      ],
      "metadata": {
        "id": "VXZP0NlsesGG"
      },
      "execution_count": 2,
      "outputs": []
    },
    {
      "cell_type": "code",
      "source": [
        "#ADD your number of students here\n",
        "StudentCount=30"
      ],
      "metadata": {
        "id": "tKAHm21pQ9hW"
      },
      "execution_count": 3,
      "outputs": []
    },
    {
      "cell_type": "markdown",
      "source": [
        "# **Do Not Edit Below This Line**"
      ],
      "metadata": {
        "id": "bZMv2Mf-gi7Y"
      }
    },
    {
      "cell_type": "markdown",
      "source": [
        "**Below is the code for generating random students without Names**"
      ],
      "metadata": {
        "id": "ALVwOQaZgS9Z"
      }
    },
    {
      "cell_type": "code",
      "source": [
        "tempProbability=np.repeat(1/StudentCount,StudentCount)"
      ],
      "metadata": {
        "id": "sd0OES08WXcx"
      },
      "execution_count": 4,
      "outputs": []
    },
    {
      "cell_type": "code",
      "source": [
        "Templist= []\n",
        "\n",
        "for i in range(0,StudentCount):\n",
        "   Templist.append('Student' + str(i))"
      ],
      "metadata": {
        "id": "DuWUNOIDVixY"
      },
      "execution_count": 5,
      "outputs": []
    },
    {
      "cell_type": "code",
      "source": [
        "Templist[29]"
      ],
      "metadata": {
        "colab": {
          "base_uri": "https://localhost:8080/",
          "height": 36
        },
        "id": "B84FJ_OmUFbE",
        "outputId": "880698cd-b361-444f-85b4-3934e61e7bef"
      },
      "execution_count": 6,
      "outputs": [
        {
          "output_type": "execute_result",
          "data": {
            "text/plain": [
              "'Student29'"
            ],
            "application/vnd.google.colaboratory.intrinsic+json": {
              "type": "string"
            }
          },
          "metadata": {},
          "execution_count": 6
        }
      ]
    },
    {
      "cell_type": "code",
      "source": [
        "np.random.choice(Templist, size=StudentCount, replace=False, p=tempProbability)"
      ],
      "metadata": {
        "colab": {
          "base_uri": "https://localhost:8080/"
        },
        "id": "O0MSw8WPWR88",
        "outputId": "47854f67-08ad-4cd5-ba77-7e5a238c71cf"
      },
      "execution_count": 7,
      "outputs": [
        {
          "output_type": "execute_result",
          "data": {
            "text/plain": [
              "array(['Student21', 'Student15', 'Student5', 'Student2', 'Student27',\n",
              "       'Student24', 'Student12', 'Student18', 'Student20', 'Student9',\n",
              "       'Student14', 'Student10', 'Student26', 'Student19', 'Student23',\n",
              "       'Student11', 'Student0', 'Student28', 'Student25', 'Student7',\n",
              "       'Student13', 'Student6', 'Student17', 'Student8', 'Student1',\n",
              "       'Student3', 'Student29', 'Student16', 'Student22', 'Student4'],\n",
              "      dtype='<U9')"
            ]
          },
          "metadata": {},
          "execution_count": 7
        }
      ]
    },
    {
      "cell_type": "code",
      "source": [],
      "metadata": {
        "id": "AZ-fMSapfF8E"
      },
      "execution_count": 7,
      "outputs": []
    },
    {
      "cell_type": "markdown",
      "source": [
        "\n",
        "**Here is the code for manual inputting student names**\n",
        "\n"
      ],
      "metadata": {
        "id": "rLQJdnuhfGSO"
      }
    },
    {
      "cell_type": "code",
      "source": [
        "tempProbabilityNames=np.repeat(1/len(StudentNames),len(StudentNames))"
      ],
      "metadata": {
        "id": "XZEFQUvtfJgO"
      },
      "execution_count": 8,
      "outputs": []
    },
    {
      "cell_type": "code",
      "source": [
        "RandomizedListWithNames=np.random.choice(StudentNames, size=len(StudentNames), replace=False, p=tempProbabilityNames)"
      ],
      "metadata": {
        "id": "35EyqucbfMwi"
      },
      "execution_count": 9,
      "outputs": []
    },
    {
      "cell_type": "markdown",
      "source": [
        "# **RESULTS**"
      ],
      "metadata": {
        "id": "PLJENMaigPJW"
      }
    },
    {
      "cell_type": "code",
      "source": [
        "#WITH NAMES\n",
        "print(RandomizedListWithNames)"
      ],
      "metadata": {
        "colab": {
          "base_uri": "https://localhost:8080/"
        },
        "id": "aBUPtKgtfM91",
        "outputId": "e5e807d3-aad5-4d05-f91a-7d81ece893a3"
      },
      "execution_count": 10,
      "outputs": [
        {
          "output_type": "stream",
          "name": "stdout",
          "text": [
            "['Augustus' 'Lychee' 'Joey' 'Sir Geoffery' 'Octavian']\n"
          ]
        }
      ]
    },
    {
      "cell_type": "code",
      "source": [
        "#WITHOUT NAMES\n",
        "print(np.random.choice(Templist, size=len(Templist), replace=False, p=tempProbability))"
      ],
      "metadata": {
        "colab": {
          "base_uri": "https://localhost:8080/"
        },
        "id": "aaNireW6g5a9",
        "outputId": "3b0cf3a2-a010-41fe-b222-96e05ad6b399"
      },
      "execution_count": 11,
      "outputs": [
        {
          "output_type": "stream",
          "name": "stdout",
          "text": [
            "['Student8' 'Student6' 'Student13' 'Student5' 'Student14' 'Student1'\n",
            " 'Student10' 'Student21' 'Student24' 'Student7' 'Student9' 'Student20'\n",
            " 'Student28' 'Student18' 'Student15' 'Student26' 'Student2' 'Student4'\n",
            " 'Student25' 'Student29' 'Student17' 'Student23' 'Student12' 'Student19'\n",
            " 'Student11' 'Student22' 'Student27' 'Student16' 'Student0' 'Student3']\n"
          ]
        }
      ]
    }
  ]
}